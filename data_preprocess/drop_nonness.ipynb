{
 "cells": [
  {
   "cell_type": "markdown",
   "id": "9c7c1b05-d888-4050-97b4-e27988378f06",
   "metadata": {},
   "source": [
    "# model 입력으로 필요한 데이터만 추출"
   ]
  },
  {
   "cell_type": "markdown",
   "id": "bc89928d-0e2d-4834-9ac6-edd1ad31873c",
   "metadata": {},
   "source": [
    "### 1. 고객리뷰 & 사장답글 길이에 따라 drop\n",
    "너무 짧거나 긴 고객리뷰 및 사장답글 제외"
   ]
  },
  {
   "cell_type": "code",
   "execution_count": 1,
   "id": "8e2d31ba-c282-4a56-b233-81aa6d6b6c4b",
   "metadata": {},
   "outputs": [],
   "source": [
    "import pandas as pd"
   ]
  },
  {
   "cell_type": "code",
   "execution_count": 2,
   "id": "be13b754-3b59-412e-8aea-db994f65941a",
   "metadata": {},
   "outputs": [
    {
     "data": {
      "text/plain": [
       "256030"
      ]
     },
     "execution_count": 2,
     "metadata": {},
     "output_type": "execute_result"
    }
   ],
   "source": [
    "df = pd.read_csv(\"prev2_final_total_data.csv\")\n",
    "len(df)"
   ]
  },
  {
   "cell_type": "code",
   "execution_count": 3,
   "id": "5d7ad222-7874-4626-bb6a-a21edbb5b1ce",
   "metadata": {},
   "outputs": [
    {
     "name": "stdout",
     "output_type": "stream",
     "text": [
      "사진을 못찍었네요ㅠㅠ 잘먹었어요~ || nan\n"
     ]
    },
    {
     "data": {
      "text/plain": [
       "114635"
      ]
     },
     "execution_count": 3,
     "metadata": {},
     "output_type": "execute_result"
    }
   ],
   "source": [
    "leng_df = []\n",
    "for row in df.values:\n",
    "    try:\n",
    "        if len(row[6]) < 15 or len(row[6]) > 100 or len(row[7]) < 50 or len(row[7]) > 200:\n",
    "            continue\n",
    "        leng_df.append(row)\n",
    "    except:\n",
    "        print(row[6], '||', row[7])\n",
    "len(leng_df)"
   ]
  },
  {
   "cell_type": "code",
   "execution_count": 4,
   "id": "fbe152dd-cf1e-4659-816c-6a61d0bfe307",
   "metadata": {},
   "outputs": [],
   "source": [
    "leng_df = pd.DataFrame(leng_df, columns=[\"업체명\",\"맛\",\"양\",\"배달\",\"주문메뉴\",\"고객id\",\"고객리뷰\",\"사장답글\"])\n",
    "leng_df.to_csv(\"drop_by_length.csv\", encoding=\"utf-8\", index=False)"
   ]
  },
  {
   "cell_type": "markdown",
   "id": "2cbe326b-32bf-4aed-b050-25aa33068f9d",
   "metadata": {},
   "source": [
    "### 2. 고객리뷰 - 사장답글 사이 유사도에 따라 drop\n",
    "고객리뷰와 사장답글의 유사도가 0인 것 제외"
   ]
  },
  {
   "cell_type": "code",
   "execution_count": 5,
   "id": "6b61fd62-14b7-445e-bd8b-d308f2a6478c",
   "metadata": {},
   "outputs": [
    {
     "data": {
      "text/html": [
       "<div>\n",
       "<style scoped>\n",
       "    .dataframe tbody tr th:only-of-type {\n",
       "        vertical-align: middle;\n",
       "    }\n",
       "\n",
       "    .dataframe tbody tr th {\n",
       "        vertical-align: top;\n",
       "    }\n",
       "\n",
       "    .dataframe thead th {\n",
       "        text-align: right;\n",
       "    }\n",
       "</style>\n",
       "<table border=\"1\" class=\"dataframe\">\n",
       "  <thead>\n",
       "    <tr style=\"text-align: right;\">\n",
       "      <th></th>\n",
       "      <th>업체명</th>\n",
       "      <th>맛</th>\n",
       "      <th>양</th>\n",
       "      <th>배달</th>\n",
       "      <th>주문메뉴</th>\n",
       "      <th>고객id</th>\n",
       "      <th>고객리뷰</th>\n",
       "      <th>사장답글</th>\n",
       "      <th>length</th>\n",
       "      <th>clen</th>\n",
       "      <th>SBERT</th>\n",
       "      <th>tf-idf</th>\n",
       "      <th>glove</th>\n",
       "    </tr>\n",
       "  </thead>\n",
       "  <tbody>\n",
       "    <tr>\n",
       "      <th>43920</th>\n",
       "      <td>던킨-신림양지병원점</td>\n",
       "      <td>5</td>\n",
       "      <td>5</td>\n",
       "      <td>5</td>\n",
       "      <td>\\n            아이스 바닐라라떼/1(사이즈 업(사이즈UP （ICE）)),...</td>\n",
       "      <td>ca**님</td>\n",
       "      <td>두 번째 주문인데 항상 깔끔하게 포장해주셔서 좋아요!</td>\n",
       "      <td>안녕하세요 고객님 ^^\\n저희매장에 만족하셨다니 다행입니다\\n앞으로도 많은이용부탁드...</td>\n",
       "      <td>49</td>\n",
       "      <td>29</td>\n",
       "      <td>0.72</td>\n",
       "      <td>0.000000</td>\n",
       "      <td>0.595228</td>\n",
       "    </tr>\n",
       "    <tr>\n",
       "      <th>207450</th>\n",
       "      <td>파리바게뜨-혜화로타리점</td>\n",
       "      <td>5</td>\n",
       "      <td>5</td>\n",
       "      <td>5</td>\n",
       "      <td>\\n            단백질 듬뿍 로스트치킨샐러드/1,오리지널 시저샐러드/1\\n...</td>\n",
       "      <td>ja**님</td>\n",
       "      <td>야채가 싱싱하네요 참으로 실해요</td>\n",
       "      <td>맛있으셨다니 기분 좋아요~^^\\n감사합니다^^</td>\n",
       "      <td>24</td>\n",
       "      <td>17</td>\n",
       "      <td>0.08</td>\n",
       "      <td>0.000000</td>\n",
       "      <td>0.448141</td>\n",
       "    </tr>\n",
       "    <tr>\n",
       "      <th>155198</th>\n",
       "      <td>파리바게뜨-정릉제일점</td>\n",
       "      <td>5</td>\n",
       "      <td>5</td>\n",
       "      <td>5</td>\n",
       "      <td>\\n            크랜베리치킨호밀샌드위치/1,호밀샌드위치/1,카페라떼（시그니...</td>\n",
       "      <td>jm**님</td>\n",
       "      <td>맛있게  잘먹었어요</td>\n",
       "      <td>주문해주셔서 감사합니다 내일까지 이벤트 계속됩니다</td>\n",
       "      <td>27</td>\n",
       "      <td>10</td>\n",
       "      <td>0.85</td>\n",
       "      <td>0.000000</td>\n",
       "      <td>0.000000</td>\n",
       "    </tr>\n",
       "    <tr>\n",
       "      <th>82691</th>\n",
       "      <td>파리바게뜨-면목역점</td>\n",
       "      <td>5</td>\n",
       "      <td>5</td>\n",
       "      <td>5</td>\n",
       "      <td>\\n            달콤한 꿀도넛/1,레피시에 딸기잼（380g）/1,레피시에 ...</td>\n",
       "      <td>am**님</td>\n",
       "      <td>사과잼이랑 딸기잼시켰어용ㅋㅋㅋ 파바쨈은 첨인데 맛있었음 조켓네용 꿀도넛최애빵인데 넘...</td>\n",
       "      <td>이용해주셔서 감사합니다.  꿀도넛은 다양한 형태로 제공될 수 있는지 검토해보겠습니다.</td>\n",
       "      <td>47</td>\n",
       "      <td>72</td>\n",
       "      <td>0.25</td>\n",
       "      <td>0.000000</td>\n",
       "      <td>0.695811</td>\n",
       "    </tr>\n",
       "    <tr>\n",
       "      <th>132485</th>\n",
       "      <td>엔제리너스-미아삼거리점</td>\n",
       "      <td>5</td>\n",
       "      <td>3</td>\n",
       "      <td>5</td>\n",
       "      <td>\\n            카페모카/1(HOT／ICE 선택(ICE),사이즈선택(R（1...</td>\n",
       "      <td>kt**님</td>\n",
       "      <td>서비스 좋아요 배달도 비오는 날인데 빨랐어요 음료 녹지않게 잘왔습니다 담에 또 시키려구요</td>\n",
       "      <td>저희 미아삼거리 엔제리너스를 이용해 주셔서 감사합니다.\\n빵이 따듯하게 제공되고 얼...</td>\n",
       "      <td>84</td>\n",
       "      <td>49</td>\n",
       "      <td>0.47</td>\n",
       "      <td>0.037328</td>\n",
       "      <td>0.845356</td>\n",
       "    </tr>\n",
       "  </tbody>\n",
       "</table>\n",
       "</div>"
      ],
      "text/plain": [
       "                 업체명  맛  양 배달  \\\n",
       "43920     던킨-신림양지병원점  5  5  5   \n",
       "207450  파리바게뜨-혜화로타리점  5  5  5   \n",
       "155198   파리바게뜨-정릉제일점  5  5  5   \n",
       "82691     파리바게뜨-면목역점  5  5  5   \n",
       "132485  엔제리너스-미아삼거리점  5  3  5   \n",
       "\n",
       "                                                     주문메뉴   고객id  \\\n",
       "43920   \\n            아이스 바닐라라떼/1(사이즈 업(사이즈UP （ICE）)),...  ca**님   \n",
       "207450  \\n            단백질 듬뿍 로스트치킨샐러드/1,오리지널 시저샐러드/1\\n...  ja**님   \n",
       "155198  \\n            크랜베리치킨호밀샌드위치/1,호밀샌드위치/1,카페라떼（시그니...  jm**님   \n",
       "82691   \\n            달콤한 꿀도넛/1,레피시에 딸기잼（380g）/1,레피시에 ...  am**님   \n",
       "132485  \\n            카페모카/1(HOT／ICE 선택(ICE),사이즈선택(R（1...  kt**님   \n",
       "\n",
       "                                                     고객리뷰  \\\n",
       "43920                       두 번째 주문인데 항상 깔끔하게 포장해주셔서 좋아요!   \n",
       "207450                                  야채가 싱싱하네요 참으로 실해요   \n",
       "155198                                         맛있게  잘먹었어요   \n",
       "82691   사과잼이랑 딸기잼시켰어용ㅋㅋㅋ 파바쨈은 첨인데 맛있었음 조켓네용 꿀도넛최애빵인데 넘...   \n",
       "132485  서비스 좋아요 배달도 비오는 날인데 빨랐어요 음료 녹지않게 잘왔습니다 담에 또 시키려구요   \n",
       "\n",
       "                                                     사장답글  length  clen  \\\n",
       "43920   안녕하세요 고객님 ^^\\n저희매장에 만족하셨다니 다행입니다\\n앞으로도 많은이용부탁드...      49    29   \n",
       "207450                          맛있으셨다니 기분 좋아요~^^\\n감사합니다^^      24    17   \n",
       "155198                        주문해주셔서 감사합니다 내일까지 이벤트 계속됩니다      27    10   \n",
       "82691     이용해주셔서 감사합니다.  꿀도넛은 다양한 형태로 제공될 수 있는지 검토해보겠습니다.      47    72   \n",
       "132485  저희 미아삼거리 엔제리너스를 이용해 주셔서 감사합니다.\\n빵이 따듯하게 제공되고 얼...      84    49   \n",
       "\n",
       "        SBERT    tf-idf     glove  \n",
       "43920    0.72  0.000000  0.595228  \n",
       "207450   0.08  0.000000  0.448141  \n",
       "155198   0.85  0.000000  0.000000  \n",
       "82691    0.25  0.000000  0.695811  \n",
       "132485   0.47  0.037328  0.845356  "
      ]
     },
     "execution_count": 5,
     "metadata": {},
     "output_type": "execute_result"
    }
   ],
   "source": [
    "sim_df = pd.read_csv(\"../final_all_sim.csv\")\n",
    "sim_df.sample(5)"
   ]
  }
 ],
 "metadata": {
  "kernelspec": {
   "display_name": "Python 3 (ipykernel)",
   "language": "python",
   "name": "python3"
  },
  "language_info": {
   "codemirror_mode": {
    "name": "ipython",
    "version": 3
   },
   "file_extension": ".py",
   "mimetype": "text/x-python",
   "name": "python",
   "nbconvert_exporter": "python",
   "pygments_lexer": "ipython3",
   "version": "3.8.5"
  }
 },
 "nbformat": 4,
 "nbformat_minor": 5
}
